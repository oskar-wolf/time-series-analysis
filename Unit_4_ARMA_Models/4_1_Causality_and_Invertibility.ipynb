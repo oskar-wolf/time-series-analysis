{
 "cells": [
  {
   "cell_type": "code",
   "execution_count": 1,
   "metadata": {},
   "outputs": [],
   "source": [
    "import numpy as np "
   ]
  },
  {
   "cell_type": "code",
   "execution_count": 2,
   "metadata": {},
   "outputs": [
    {
     "data": {
      "text/plain": [
       "array([1.5, 2. ])"
      ]
     },
     "execution_count": 2,
     "metadata": {},
     "output_type": "execute_result"
    }
   ],
   "source": [
    "## Causality\n",
    "\n",
    "# %% import modules\n",
    "import numpy as np\n",
    "\n",
    "# %% create a polynomial object\n",
    "p = np.polynomial.Polynomial([1, -7/6, 1/3])\n",
    "\n",
    "# %% calculate the roots\n",
    "p.roots()\n",
    "\n",
    "# console ouput\n",
    "# array([1.5, 2. ])"
   ]
  },
  {
   "cell_type": "code",
   "execution_count": 3,
   "metadata": {},
   "outputs": [
    {
     "data": {
      "text/plain": [
       "array([0.5, 2. ])"
      ]
     },
     "execution_count": 3,
     "metadata": {},
     "output_type": "execute_result"
    }
   ],
   "source": [
    "## Invertibility\n",
    "\n",
    "# %% create polynomial object\n",
    "p = np.polynomial.Polynomial([1, -5/2, 1])\n",
    "\n",
    "# %% calculate the roots\n",
    "p.roots()\n",
    "\n",
    "# console ouput\n",
    "# array([0.5, 2. ])\n"
   ]
  }
 ],
 "metadata": {
  "kernelspec": {
   "display_name": "ml311",
   "language": "python",
   "name": "python3"
  },
  "language_info": {
   "codemirror_mode": {
    "name": "ipython",
    "version": 3
   },
   "file_extension": ".py",
   "mimetype": "text/x-python",
   "name": "python",
   "nbconvert_exporter": "python",
   "pygments_lexer": "ipython3",
   "version": "3.11.7"
  }
 },
 "nbformat": 4,
 "nbformat_minor": 2
}
