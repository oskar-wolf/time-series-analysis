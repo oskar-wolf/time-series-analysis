{
 "cells": [
  {
   "cell_type": "code",
   "execution_count": 3,
   "metadata": {},
   "outputs": [],
   "source": [
    "import numpy as np\n",
    "import matplotlib.pyplot as plt\n",
    "from sklearn.linear_model import LinearRegression"
   ]
  },
  {
   "cell_type": "code",
   "execution_count": 4,
   "metadata": {},
   "outputs": [],
   "source": [
    "z = np.array([2,4,6,8,10])\n",
    "x = np.array([-0.22, -0.03, 0.25, 0.54, 0.78])"
   ]
  },
  {
   "cell_type": "code",
   "execution_count": 5,
   "metadata": {},
   "outputs": [],
   "source": [
    "z = z.reshape(-1,1)\n",
    "x = x.reshape(-1,1)"
   ]
  },
  {
   "cell_type": "code",
   "execution_count": 6,
   "metadata": {},
   "outputs": [
    {
     "data": {
      "text/plain": [
       "array([[ 2],\n",
       "       [ 4],\n",
       "       [ 6],\n",
       "       [ 8],\n",
       "       [10]])"
      ]
     },
     "execution_count": 6,
     "metadata": {},
     "output_type": "execute_result"
    }
   ],
   "source": [
    "z"
   ]
  },
  {
   "cell_type": "code",
   "execution_count": 7,
   "metadata": {},
   "outputs": [
    {
     "data": {
      "text/plain": [
       "array([[-0.22],\n",
       "       [-0.03],\n",
       "       [ 0.25],\n",
       "       [ 0.54],\n",
       "       [ 0.78]])"
      ]
     },
     "execution_count": 7,
     "metadata": {},
     "output_type": "execute_result"
    }
   ],
   "source": [
    "x"
   ]
  },
  {
   "cell_type": "code",
   "execution_count": 8,
   "metadata": {},
   "outputs": [],
   "source": [
    "reg = LinearRegression()\n",
    "reg.fit(z,x)\n",
    "x_predicted = reg.predict(z)"
   ]
  },
  {
   "cell_type": "code",
   "execution_count": 9,
   "metadata": {},
   "outputs": [
    {
     "name": "stdout",
     "output_type": "stream",
     "text": [
      "[-0.507]\n",
      "[[0.1285]]\n"
     ]
    }
   ],
   "source": [
    "print(reg.intercept_)\n",
    "print(reg.coef_)"
   ]
  },
  {
   "cell_type": "code",
   "execution_count": 10,
   "metadata": {},
   "outputs": [
    {
     "data": {
      "image/png": "[encoded data removed]",
      "text/plain": [
       "<Figure size 1600x500 with 1 Axes>"
      ]
     },
     "metadata": {},
     "output_type": "display_data"
    }
   ],
   "source": [
    "%matplotlib inline\n",
    "plt.figure(figsize=(16,5), dpi=100)\n",
    "plt.scatter(z,x,color='0')\n",
    "plt.plot(z,x_predicted,color='red')\n",
    "plt.gca().set(xlabel='Z',ylabel='X')\n",
    "plt.grid()\n",
    "plt.show()"
   ]
  },
  {
   "cell_type": "code",
   "execution_count": 11,
   "metadata": {},
   "outputs": [],
   "source": [
    "import pandas as pd\n",
    "import matplotlib.pyplot as plt \n",
    "import numpy as np\n",
    "import statsmodels.api as sm"
   ]
  },
  {
   "cell_type": "code",
   "execution_count": 14,
   "metadata": {},
   "outputs": [],
   "source": [
    "df_temp = pd.read_csv(r'../Unit_4_ARMA_Models/Global_Temperature.csv',sep=';', \\\n",
    "    index_col = 'Year')\n"
   ]
  },
  {
   "cell_type": "code",
   "execution_count": 15,
   "metadata": {},
   "outputs": [
    {
     "data": {
      "text/html": [
       "<div>\n",
       "<style scoped>\n",
       "    .dataframe tbody tr th:only-of-type {\n",
       "        vertical-align: middle;\n",
       "    }\n",
       "\n",
       "    .dataframe tbody tr th {\n",
       "        vertical-align: top;\n",
       "    }\n",
       "\n",
       "    .dataframe thead th {\n",
       "        text-align: right;\n",
       "    }\n",
       "</style>\n",
       "<table border=\"1\" class=\"dataframe\">\n",
       "  <thead>\n",
       "    <tr style=\"text-align: right;\">\n",
       "      <th></th>\n",
       "      <th>Global_Temp</th>\n",
       "    </tr>\n",
       "    <tr>\n",
       "      <th>Year</th>\n",
       "      <th></th>\n",
       "    </tr>\n",
       "  </thead>\n",
       "  <tbody>\n",
       "    <tr>\n",
       "      <th>1880</th>\n",
       "      <td>-0.16</td>\n",
       "    </tr>\n",
       "    <tr>\n",
       "      <th>1881</th>\n",
       "      <td>-0.07</td>\n",
       "    </tr>\n",
       "    <tr>\n",
       "      <th>1882</th>\n",
       "      <td>-0.10</td>\n",
       "    </tr>\n",
       "    <tr>\n",
       "      <th>1883</th>\n",
       "      <td>-0.16</td>\n",
       "    </tr>\n",
       "    <tr>\n",
       "      <th>1884</th>\n",
       "      <td>-0.28</td>\n",
       "    </tr>\n",
       "    <tr>\n",
       "      <th>...</th>\n",
       "      <td>...</td>\n",
       "    </tr>\n",
       "    <tr>\n",
       "      <th>2016</th>\n",
       "      <td>1.01</td>\n",
       "    </tr>\n",
       "    <tr>\n",
       "      <th>2017</th>\n",
       "      <td>0.92</td>\n",
       "    </tr>\n",
       "    <tr>\n",
       "      <th>2018</th>\n",
       "      <td>0.85</td>\n",
       "    </tr>\n",
       "    <tr>\n",
       "      <th>2019</th>\n",
       "      <td>0.98</td>\n",
       "    </tr>\n",
       "    <tr>\n",
       "      <th>2020</th>\n",
       "      <td>1.02</td>\n",
       "    </tr>\n",
       "  </tbody>\n",
       "</table>\n",
       "<p>141 rows × 1 columns</p>\n",
       "</div>"
      ],
      "text/plain": [
       "      Global_Temp\n",
       "Year             \n",
       "1880        -0.16\n",
       "1881        -0.07\n",
       "1882        -0.10\n",
       "1883        -0.16\n",
       "1884        -0.28\n",
       "...           ...\n",
       "2016         1.01\n",
       "2017         0.92\n",
       "2018         0.85\n",
       "2019         0.98\n",
       "2020         1.02\n",
       "\n",
       "[141 rows x 1 columns]"
      ]
     },
     "execution_count": 15,
     "metadata": {},
     "output_type": "execute_result"
    }
   ],
   "source": [
    "df_temp"
   ]
  },
  {
   "cell_type": "code",
   "execution_count": 16,
   "metadata": {},
   "outputs": [],
   "source": [
    "temp = df_temp['Global_Temp'].values.reshape(-1,1)"
   ]
  },
  {
   "cell_type": "code",
   "execution_count": 17,
   "metadata": {},
   "outputs": [
    {
     "data": {
      "text/plain": [
       "array([[-0.16],\n",
       "       [-0.07],\n",
       "       [-0.1 ],\n",
       "       [-0.16],\n",
       "       [-0.28],\n",
       "       [-0.33],\n",
       "       [-0.31],\n",
       "       [-0.36],\n",
       "       [-0.17],\n",
       "       [-0.1 ],\n",
       "       [-0.35],\n",
       "       [-0.22],\n",
       "       [-0.27],\n",
       "       [-0.31],\n",
       "       [-0.3 ],\n",
       "       [-0.22],\n",
       "       [-0.11],\n",
       "       [-0.1 ],\n",
       "       [-0.26],\n",
       "       [-0.17],\n",
       "       [-0.08],\n",
       "       [-0.15],\n",
       "       [-0.27],\n",
       "       [-0.37],\n",
       "       [-0.46],\n",
       "       [-0.26],\n",
       "       [-0.22],\n",
       "       [-0.38],\n",
       "       [-0.42],\n",
       "       [-0.48],\n",
       "       [-0.42],\n",
       "       [-0.43],\n",
       "       [-0.35],\n",
       "       [-0.34],\n",
       "       [-0.14],\n",
       "       [-0.13],\n",
       "       [-0.35],\n",
       "       [-0.45],\n",
       "       [-0.29],\n",
       "       [-0.27],\n",
       "       [-0.27],\n",
       "       [-0.19],\n",
       "       [-0.28],\n",
       "       [-0.26],\n",
       "       [-0.27],\n",
       "       [-0.22],\n",
       "       [-0.11],\n",
       "       [-0.22],\n",
       "       [-0.2 ],\n",
       "       [-0.36],\n",
       "       [-0.15],\n",
       "       [-0.09],\n",
       "       [-0.16],\n",
       "       [-0.29],\n",
       "       [-0.13],\n",
       "       [-0.2 ],\n",
       "       [-0.15],\n",
       "       [-0.03],\n",
       "       [ 0.  ],\n",
       "       [-0.02],\n",
       "       [ 0.13],\n",
       "       [ 0.19],\n",
       "       [ 0.07],\n",
       "       [ 0.09],\n",
       "       [ 0.2 ],\n",
       "       [ 0.09],\n",
       "       [-0.07],\n",
       "       [-0.03],\n",
       "       [-0.11],\n",
       "       [-0.11],\n",
       "       [-0.17],\n",
       "       [-0.07],\n",
       "       [ 0.01],\n",
       "       [ 0.08],\n",
       "       [-0.13],\n",
       "       [-0.14],\n",
       "       [-0.19],\n",
       "       [ 0.05],\n",
       "       [ 0.06],\n",
       "       [ 0.03],\n",
       "       [-0.02],\n",
       "       [ 0.06],\n",
       "       [ 0.03],\n",
       "       [ 0.05],\n",
       "       [-0.2 ],\n",
       "       [-0.11],\n",
       "       [-0.06],\n",
       "       [-0.02],\n",
       "       [-0.08],\n",
       "       [ 0.05],\n",
       "       [ 0.03],\n",
       "       [-0.08],\n",
       "       [ 0.01],\n",
       "       [ 0.16],\n",
       "       [-0.07],\n",
       "       [-0.01],\n",
       "       [-0.1 ],\n",
       "       [ 0.18],\n",
       "       [ 0.07],\n",
       "       [ 0.16],\n",
       "       [ 0.26],\n",
       "       [ 0.32],\n",
       "       [ 0.14],\n",
       "       [ 0.31],\n",
       "       [ 0.15],\n",
       "       [ 0.12],\n",
       "       [ 0.18],\n",
       "       [ 0.32],\n",
       "       [ 0.38],\n",
       "       [ 0.27],\n",
       "       [ 0.45],\n",
       "       [ 0.4 ],\n",
       "       [ 0.22],\n",
       "       [ 0.23],\n",
       "       [ 0.31],\n",
       "       [ 0.45],\n",
       "       [ 0.33],\n",
       "       [ 0.46],\n",
       "       [ 0.61],\n",
       "       [ 0.38],\n",
       "       [ 0.39],\n",
       "       [ 0.54],\n",
       "       [ 0.63],\n",
       "       [ 0.62],\n",
       "       [ 0.54],\n",
       "       [ 0.68],\n",
       "       [ 0.64],\n",
       "       [ 0.66],\n",
       "       [ 0.54],\n",
       "       [ 0.66],\n",
       "       [ 0.72],\n",
       "       [ 0.61],\n",
       "       [ 0.64],\n",
       "       [ 0.68],\n",
       "       [ 0.74],\n",
       "       [ 0.9 ],\n",
       "       [ 1.01],\n",
       "       [ 0.92],\n",
       "       [ 0.85],\n",
       "       [ 0.98],\n",
       "       [ 1.02]])"
      ]
     },
     "execution_count": 17,
     "metadata": {},
     "output_type": "execute_result"
    }
   ],
   "source": [
    "temp"
   ]
  },
  {
   "cell_type": "code",
   "execution_count": 18,
   "metadata": {},
   "outputs": [],
   "source": [
    "T = len(temp)\n",
    "time = np.arange(1,T+1)/100 #Linear \n",
    "time2=np.column_stack((time,time**2)) #Quadratic"
   ]
  },
  {
   "cell_type": "code",
   "execution_count": 19,
   "metadata": {},
   "outputs": [
    {
     "data": {
      "text/plain": [
       "array([0.01, 0.02, 0.03, 0.04, 0.05, 0.06, 0.07, 0.08, 0.09, 0.1 , 0.11,\n",
       "       0.12, 0.13, 0.14, 0.15, 0.16, 0.17, 0.18, 0.19, 0.2 , 0.21, 0.22,\n",
       "       0.23, 0.24, 0.25, 0.26, 0.27, 0.28, 0.29, 0.3 , 0.31, 0.32, 0.33,\n",
       "       0.34, 0.35, 0.36, 0.37, 0.38, 0.39, 0.4 , 0.41, 0.42, 0.43, 0.44,\n",
       "       0.45, 0.46, 0.47, 0.48, 0.49, 0.5 , 0.51, 0.52, 0.53, 0.54, 0.55,\n",
       "       0.56, 0.57, 0.58, 0.59, 0.6 , 0.61, 0.62, 0.63, 0.64, 0.65, 0.66,\n",
       "       0.67, 0.68, 0.69, 0.7 , 0.71, 0.72, 0.73, 0.74, 0.75, 0.76, 0.77,\n",
       "       0.78, 0.79, 0.8 , 0.81, 0.82, 0.83, 0.84, 0.85, 0.86, 0.87, 0.88,\n",
       "       0.89, 0.9 , 0.91, 0.92, 0.93, 0.94, 0.95, 0.96, 0.97, 0.98, 0.99,\n",
       "       1.  , 1.01, 1.02, 1.03, 1.04, 1.05, 1.06, 1.07, 1.08, 1.09, 1.1 ,\n",
       "       1.11, 1.12, 1.13, 1.14, 1.15, 1.16, 1.17, 1.18, 1.19, 1.2 , 1.21,\n",
       "       1.22, 1.23, 1.24, 1.25, 1.26, 1.27, 1.28, 1.29, 1.3 , 1.31, 1.32,\n",
       "       1.33, 1.34, 1.35, 1.36, 1.37, 1.38, 1.39, 1.4 , 1.41])"
      ]
     },
     "execution_count": 19,
     "metadata": {},
     "output_type": "execute_result"
    }
   ],
   "source": [
    "time"
   ]
  },
  {
   "cell_type": "code",
   "execution_count": 20,
   "metadata": {},
   "outputs": [
    {
     "data": {
      "text/plain": [
       "array([[1.0000e-02, 1.0000e-04],\n",
       "       [2.0000e-02, 4.0000e-04],\n",
       "       [3.0000e-02, 9.0000e-04],\n",
       "       [4.0000e-02, 1.6000e-03],\n",
       "       [5.0000e-02, 2.5000e-03],\n",
       "       [6.0000e-02, 3.6000e-03],\n",
       "       [7.0000e-02, 4.9000e-03],\n",
       "       [8.0000e-02, 6.4000e-03],\n",
       "       [9.0000e-02, 8.1000e-03],\n",
       "       [1.0000e-01, 1.0000e-02],\n",
       "       [1.1000e-01, 1.2100e-02],\n",
       "       [1.2000e-01, 1.4400e-02],\n",
       "       [1.3000e-01, 1.6900e-02],\n",
       "       [1.4000e-01, 1.9600e-02],\n",
       "       [1.5000e-01, 2.2500e-02],\n",
       "       [1.6000e-01, 2.5600e-02],\n",
       "       [1.7000e-01, 2.8900e-02],\n",
       "       [1.8000e-01, 3.2400e-02],\n",
       "       [1.9000e-01, 3.6100e-02],\n",
       "       [2.0000e-01, 4.0000e-02],\n",
       "       [2.1000e-01, 4.4100e-02],\n",
       "       [2.2000e-01, 4.8400e-02],\n",
       "       [2.3000e-01, 5.2900e-02],\n",
       "       [2.4000e-01, 5.7600e-02],\n",
       "       [2.5000e-01, 6.2500e-02],\n",
       "       [2.6000e-01, 6.7600e-02],\n",
       "       [2.7000e-01, 7.2900e-02],\n",
       "       [2.8000e-01, 7.8400e-02],\n",
       "       [2.9000e-01, 8.4100e-02],\n",
       "       [3.0000e-01, 9.0000e-02],\n",
       "       [3.1000e-01, 9.6100e-02],\n",
       "       [3.2000e-01, 1.0240e-01],\n",
       "       [3.3000e-01, 1.0890e-01],\n",
       "       [3.4000e-01, 1.1560e-01],\n",
       "       [3.5000e-01, 1.2250e-01],\n",
       "       [3.6000e-01, 1.2960e-01],\n",
       "       [3.7000e-01, 1.3690e-01],\n",
       "       [3.8000e-01, 1.4440e-01],\n",
       "       [3.9000e-01, 1.5210e-01],\n",
       "       [4.0000e-01, 1.6000e-01],\n",
       "       [4.1000e-01, 1.6810e-01],\n",
       "       [4.2000e-01, 1.7640e-01],\n",
       "       [4.3000e-01, 1.8490e-01],\n",
       "       [4.4000e-01, 1.9360e-01],\n",
       "       [4.5000e-01, 2.0250e-01],\n",
       "       [4.6000e-01, 2.1160e-01],\n",
       "       [4.7000e-01, 2.2090e-01],\n",
       "       [4.8000e-01, 2.3040e-01],\n",
       "       [4.9000e-01, 2.4010e-01],\n",
       "       [5.0000e-01, 2.5000e-01],\n",
       "       [5.1000e-01, 2.6010e-01],\n",
       "       [5.2000e-01, 2.7040e-01],\n",
       "       [5.3000e-01, 2.8090e-01],\n",
       "       [5.4000e-01, 2.9160e-01],\n",
       "       [5.5000e-01, 3.0250e-01],\n",
       "       [5.6000e-01, 3.1360e-01],\n",
       "       [5.7000e-01, 3.2490e-01],\n",
       "       [5.8000e-01, 3.3640e-01],\n",
       "       [5.9000e-01, 3.4810e-01],\n",
       "       [6.0000e-01, 3.6000e-01],\n",
       "       [6.1000e-01, 3.7210e-01],\n",
       "       [6.2000e-01, 3.8440e-01],\n",
       "       [6.3000e-01, 3.9690e-01],\n",
       "       [6.4000e-01, 4.0960e-01],\n",
       "       [6.5000e-01, 4.2250e-01],\n",
       "       [6.6000e-01, 4.3560e-01],\n",
       "       [6.7000e-01, 4.4890e-01],\n",
       "       [6.8000e-01, 4.6240e-01],\n",
       "       [6.9000e-01, 4.7610e-01],\n",
       "       [7.0000e-01, 4.9000e-01],\n",
       "       [7.1000e-01, 5.0410e-01],\n",
       "       [7.2000e-01, 5.1840e-01],\n",
       "       [7.3000e-01, 5.3290e-01],\n",
       "       [7.4000e-01, 5.4760e-01],\n",
       "       [7.5000e-01, 5.6250e-01],\n",
       "       [7.6000e-01, 5.7760e-01],\n",
       "       [7.7000e-01, 5.9290e-01],\n",
       "       [7.8000e-01, 6.0840e-01],\n",
       "       [7.9000e-01, 6.2410e-01],\n",
       "       [8.0000e-01, 6.4000e-01],\n",
       "       [8.1000e-01, 6.5610e-01],\n",
       "       [8.2000e-01, 6.7240e-01],\n",
       "       [8.3000e-01, 6.8890e-01],\n",
       "       [8.4000e-01, 7.0560e-01],\n",
       "       [8.5000e-01, 7.2250e-01],\n",
       "       [8.6000e-01, 7.3960e-01],\n",
       "       [8.7000e-01, 7.5690e-01],\n",
       "       [8.8000e-01, 7.7440e-01],\n",
       "       [8.9000e-01, 7.9210e-01],\n",
       "       [9.0000e-01, 8.1000e-01],\n",
       "       [9.1000e-01, 8.2810e-01],\n",
       "       [9.2000e-01, 8.4640e-01],\n",
       "       [9.3000e-01, 8.6490e-01],\n",
       "       [9.4000e-01, 8.8360e-01],\n",
       "       [9.5000e-01, 9.0250e-01],\n",
       "       [9.6000e-01, 9.2160e-01],\n",
       "       [9.7000e-01, 9.4090e-01],\n",
       "       [9.8000e-01, 9.6040e-01],\n",
       "       [9.9000e-01, 9.8010e-01],\n",
       "       [1.0000e+00, 1.0000e+00],\n",
       "       [1.0100e+00, 1.0201e+00],\n",
       "       [1.0200e+00, 1.0404e+00],\n",
       "       [1.0300e+00, 1.0609e+00],\n",
       "       [1.0400e+00, 1.0816e+00],\n",
       "       [1.0500e+00, 1.1025e+00],\n",
       "       [1.0600e+00, 1.1236e+00],\n",
       "       [1.0700e+00, 1.1449e+00],\n",
       "       [1.0800e+00, 1.1664e+00],\n",
       "       [1.0900e+00, 1.1881e+00],\n",
       "       [1.1000e+00, 1.2100e+00],\n",
       "       [1.1100e+00, 1.2321e+00],\n",
       "       [1.1200e+00, 1.2544e+00],\n",
       "       [1.1300e+00, 1.2769e+00],\n",
       "       [1.1400e+00, 1.2996e+00],\n",
       "       [1.1500e+00, 1.3225e+00],\n",
       "       [1.1600e+00, 1.3456e+00],\n",
       "       [1.1700e+00, 1.3689e+00],\n",
       "       [1.1800e+00, 1.3924e+00],\n",
       "       [1.1900e+00, 1.4161e+00],\n",
       "       [1.2000e+00, 1.4400e+00],\n",
       "       [1.2100e+00, 1.4641e+00],\n",
       "       [1.2200e+00, 1.4884e+00],\n",
       "       [1.2300e+00, 1.5129e+00],\n",
       "       [1.2400e+00, 1.5376e+00],\n",
       "       [1.2500e+00, 1.5625e+00],\n",
       "       [1.2600e+00, 1.5876e+00],\n",
       "       [1.2700e+00, 1.6129e+00],\n",
       "       [1.2800e+00, 1.6384e+00],\n",
       "       [1.2900e+00, 1.6641e+00],\n",
       "       [1.3000e+00, 1.6900e+00],\n",
       "       [1.3100e+00, 1.7161e+00],\n",
       "       [1.3200e+00, 1.7424e+00],\n",
       "       [1.3300e+00, 1.7689e+00],\n",
       "       [1.3400e+00, 1.7956e+00],\n",
       "       [1.3500e+00, 1.8225e+00],\n",
       "       [1.3600e+00, 1.8496e+00],\n",
       "       [1.3700e+00, 1.8769e+00],\n",
       "       [1.3800e+00, 1.9044e+00],\n",
       "       [1.3900e+00, 1.9321e+00],\n",
       "       [1.4000e+00, 1.9600e+00],\n",
       "       [1.4100e+00, 1.9881e+00]])"
      ]
     },
     "execution_count": 20,
     "metadata": {},
     "output_type": "execute_result"
    }
   ],
   "source": [
    "time2"
   ]
  },
  {
   "cell_type": "code",
   "execution_count": 21,
   "metadata": {},
   "outputs": [],
   "source": [
    "time_ones = sm.add_constant(time)\n",
    "time2_ones = sm.add_constant(time2)"
   ]
  },
  {
   "cell_type": "code",
   "execution_count": 25,
   "metadata": {},
   "outputs": [],
   "source": [
    "model_01a = sm.OLS(temp,time_ones) #Linear\n",
    "model_01b = sm.OLS(temp,time2_ones) #Quadratic"
   ]
  },
  {
   "cell_type": "code",
   "execution_count": 26,
   "metadata": {},
   "outputs": [],
   "source": [
    "results_01a = model_01a.fit()\n",
    "results_01b = model_01b.fit()"
   ]
  },
  {
   "cell_type": "code",
   "execution_count": 27,
   "metadata": {},
   "outputs": [
    {
     "name": "stdout",
     "output_type": "stream",
     "text": [
      "                            OLS Regression Results                            \n",
      "==============================================================================\n",
      "Dep. Variable:                      y   R-squared:                       0.751\n",
      "Model:                            OLS   Adj. R-squared:                  0.749\n",
      "Method:                 Least Squares   F-statistic:                     419.2\n",
      "Date:                Thu, 10 Oct 2024   Prob (F-statistic):           8.44e-44\n",
      "Time:                        12:26:56   Log-Likelihood:                 43.832\n",
      "No. Observations:                 141   AIC:                            -83.66\n",
      "Df Residuals:                     139   BIC:                            -77.77\n",
      "Df Model:                           1                                         \n",
      "Covariance Type:            nonrobust                                         \n",
      "==============================================================================\n",
      "                 coef    std err          t      P>|t|      [0.025      0.975]\n",
      "------------------------------------------------------------------------------\n",
      "const         -0.4870      0.030    -16.103      0.000      -0.547      -0.427\n",
      "x1             0.7566      0.037     20.475      0.000       0.684       0.830\n",
      "==============================================================================\n",
      "Omnibus:                        4.964   Durbin-Watson:                   0.383\n",
      "Prob(Omnibus):                  0.084   Jarque-Bera (JB):                4.924\n",
      "Skew:                           0.418   Prob(JB):                       0.0853\n",
      "Kurtosis:                       2.626   Cond. No.                         3.84\n",
      "==============================================================================\n",
      "\n",
      "Notes:\n",
      "[1] Standard Errors assume that the covariance matrix of the errors is correctly specified.\n"
     ]
    }
   ],
   "source": [
    "print(results_01a.summary())"
   ]
  },
  {
   "cell_type": "code",
   "execution_count": 28,
   "metadata": {},
   "outputs": [
    {
     "name": "stdout",
     "output_type": "stream",
     "text": [
      "                            OLS Regression Results                            \n",
      "==============================================================================\n",
      "Dep. Variable:                      y   R-squared:                       0.892\n",
      "Model:                            OLS   Adj. R-squared:                  0.890\n",
      "Method:                 Least Squares   F-statistic:                     567.0\n",
      "Date:                Thu, 10 Oct 2024   Prob (F-statistic):           2.76e-67\n",
      "Time:                        12:27:45   Log-Likelihood:                 102.40\n",
      "No. Observations:                 141   AIC:                            -198.8\n",
      "Df Residuals:                     138   BIC:                            -190.0\n",
      "Df Model:                           2                                         \n",
      "Covariance Type:            nonrobust                                         \n",
      "==============================================================================\n",
      "                 coef    std err          t      P>|t|      [0.025      0.975]\n",
      "------------------------------------------------------------------------------\n",
      "const         -0.1827      0.030     -6.026      0.000      -0.243      -0.123\n",
      "x1            -0.5200      0.099     -5.275      0.000      -0.715      -0.325\n",
      "x2             0.8990      0.067     13.369      0.000       0.766       1.032\n",
      "==============================================================================\n",
      "Omnibus:                        2.625   Durbin-Watson:                   0.873\n",
      "Prob(Omnibus):                  0.269   Jarque-Bera (JB):                2.387\n",
      "Skew:                           0.318   Prob(JB):                        0.303\n",
      "Kurtosis:                       3.025   Cond. No.                         18.2\n",
      "==============================================================================\n",
      "\n",
      "Notes:\n",
      "[1] Standard Errors assume that the covariance matrix of the errors is correctly specified.\n"
     ]
    }
   ],
   "source": [
    "print(results_01b.summary())"
   ]
  },
  {
   "cell_type": "code",
   "execution_count": 29,
   "metadata": {},
   "outputs": [
    {
     "data": {
      "text/plain": [
       "<Figure size 1600x500 with 0 Axes>"
      ]
     },
     "execution_count": 29,
     "metadata": {},
     "output_type": "execute_result"
    },
    {
     "data": {
      "text/plain": [
       "<Figure size 1600x500 with 0 Axes>"
      ]
     },
     "metadata": {},
     "output_type": "display_data"
    }
   ],
   "source": [
    "plt.figure(figsize=(16,5),dpi=100)"
   ]
  },
  {
   "cell_type": "code",
   "execution_count": 58,
   "metadata": {},
   "outputs": [
    {
     "data": {
      "image/png": "[encoded data removed]",
      "text/plain": [
       "<Figure size 640x480 with 1 Axes>"
      ]
     },
     "metadata": {},
     "output_type": "display_data"
    }
   ],
   "source": [
    "plt.plot(df_temp.index,df_temp['Global_Temp'], color='k', \\\n",
    "    label='Original Data (Delta Temprature)')\n",
    "\n",
    "plt.plot(df_temp.index, results_01a.fittedvalues, \\\n",
    "    color='red', label = '$X_{t}=a+b\\cdot t$')\n",
    "\n",
    "plt.plot(df_temp.index, results_01b.fittedvalues,'--', \\\n",
    "    color='blue', \\\n",
    "        label='$X_{t}=a+b\\cdot t+c\\cdot t^{2}$')\n",
    "\n",
    "plt.plot(df_temp.index,results_01c.fittedvalues, \\\n",
    "    color='green', \\\n",
    "        label='polynomial 3rd')\n",
    "\n",
    "plt.plot(df_temp.index,results_01d.fittedvalues, \\\n",
    "    color='pink', \\\n",
    "        label='polynomial 4th')\n",
    "\n",
    "plt.plot(df_temp.index,results_01e.fittedvalues, \\\n",
    "    color='yellow', \\\n",
    "        label='polynomial 6th')\n",
    "\n",
    "fig_title = 'Global surface temperature relative \\\n",
    "    to 1951-1980 average temperatures'\n",
    "plt.gca().set(title=fig_title, xlabel='Year', \\\n",
    "    ylabel='Delta (C°)')\n",
    "\n",
    "plt.legend()\n",
    "plt.grid()\n",
    "plt.show()\n"
   ]
  },
  {
   "cell_type": "code",
   "execution_count": 45,
   "metadata": {},
   "outputs": [],
   "source": [
    "time3 = np.column_stack((time,time2,time**3))\n",
    "time3_ones = sm.add_constant(time3)\n",
    "model_01c = sm.OLS(temp,time3_ones)\n",
    "results_01c = model_01c.fit()"
   ]
  },
  {
   "cell_type": "code",
   "execution_count": 46,
   "metadata": {},
   "outputs": [
    {
     "name": "stdout",
     "output_type": "stream",
     "text": [
      "                            OLS Regression Results                            \n",
      "==============================================================================\n",
      "Dep. Variable:                      y   R-squared:                       0.896\n",
      "Model:                            OLS   Adj. R-squared:                  0.894\n",
      "Method:                 Least Squares   F-statistic:                     393.4\n",
      "Date:                Thu, 10 Oct 2024   Prob (F-statistic):           4.14e-67\n",
      "Time:                        12:48:03   Log-Likelihood:                 105.38\n",
      "No. Observations:                 141   AIC:                            -202.8\n",
      "Df Residuals:                     137   BIC:                            -191.0\n",
      "Df Model:                           3                                         \n",
      "Covariance Type:            nonrobust                                         \n",
      "==============================================================================\n",
      "                 coef    std err          t      P>|t|      [0.025      0.975]\n",
      "------------------------------------------------------------------------------\n",
      "const         -0.2484      0.040     -6.175      0.000      -0.328      -0.169\n",
      "x1             0.0128      0.122      0.105      0.917      -0.229       0.255\n",
      "x2             0.0128      0.122      0.105      0.917      -0.229       0.255\n",
      "x3            -0.0581      0.399     -0.145      0.885      -0.848       0.732\n",
      "x4             0.4493      0.185      2.430      0.016       0.084       0.815\n",
      "==============================================================================\n",
      "Omnibus:                        1.875   Durbin-Watson:                   0.910\n",
      "Prob(Omnibus):                  0.392   Jarque-Bera (JB):                1.710\n",
      "Skew:                           0.270   Prob(JB):                        0.425\n",
      "Kurtosis:                       2.984   Cond. No.                     4.51e+16\n",
      "==============================================================================\n",
      "\n",
      "Notes:\n",
      "[1] Standard Errors assume that the covariance matrix of the errors is correctly specified.\n",
      "[2] The smallest eigenvalue is 2.68e-31. This might indicate that there are\n",
      "strong multicollinearity problems or that the design matrix is singular.\n"
     ]
    }
   ],
   "source": [
    "print(results_01c.summary())"
   ]
  },
  {
   "cell_type": "code",
   "execution_count": 52,
   "metadata": {},
   "outputs": [],
   "source": [
    "time4 = np.column_stack((time,time2,time**3,time**4))\n",
    "time4_ones = sm.add_constant(time4)\n",
    "model_01d = sm.OLS(temp,time4_ones)\n",
    "results_01d = model_01d.fit()"
   ]
  },
  {
   "cell_type": "code",
   "execution_count": 54,
   "metadata": {},
   "outputs": [
    {
     "name": "stdout",
     "output_type": "stream",
     "text": [
      "                            OLS Regression Results                            \n",
      "==============================================================================\n",
      "Dep. Variable:                      y   R-squared:                       0.907\n",
      "Model:                            OLS   Adj. R-squared:                  0.904\n",
      "Method:                 Least Squares   F-statistic:                     332.2\n",
      "Date:                Thu, 10 Oct 2024   Prob (F-statistic):           4.03e-69\n",
      "Time:                        12:52:18   Log-Likelihood:                 113.38\n",
      "No. Observations:                 141   AIC:                            -216.8\n",
      "Df Residuals:                     136   BIC:                            -202.0\n",
      "Df Model:                           4                                         \n",
      "Covariance Type:            nonrobust                                         \n",
      "==============================================================================\n",
      "                 coef    std err          t      P>|t|      [0.025      0.975]\n",
      "------------------------------------------------------------------------------\n",
      "const         -0.1275      0.048     -2.631      0.009      -0.223      -0.032\n",
      "x1            -0.8123      0.235     -3.461      0.001      -1.276      -0.348\n",
      "x2            -0.8123      0.235     -3.461      0.001      -1.276      -0.348\n",
      "x3             5.1280      1.338      3.834      0.000       2.483       7.773\n",
      "x4            -5.2184      1.413     -3.693      0.000      -8.013      -2.424\n",
      "x5             1.9957      0.494      4.042      0.000       1.019       2.972\n",
      "==============================================================================\n",
      "Omnibus:                        1.988   Durbin-Watson:                   1.018\n",
      "Prob(Omnibus):                  0.370   Jarque-Bera (JB):                2.049\n",
      "Skew:                           0.261   Prob(JB):                        0.359\n",
      "Kurtosis:                       2.724   Cond. No.                     5.16e+16\n",
      "==============================================================================\n",
      "\n",
      "Notes:\n",
      "[1] Standard Errors assume that the covariance matrix of the errors is correctly specified.\n",
      "[2] The smallest eigenvalue is 2.88e-31. This might indicate that there are\n",
      "strong multicollinearity problems or that the design matrix is singular.\n"
     ]
    }
   ],
   "source": [
    "print(results_01d.summary())"
   ]
  },
  {
   "cell_type": "code",
   "execution_count": 56,
   "metadata": {},
   "outputs": [],
   "source": [
    "time6 = np.column_stack((time,time2,time**3,time**4,time**5,time**6))\n",
    "time6_ones = sm.add_constant(time6)\n",
    "model_01e = sm.OLS(temp,time6_ones)\n",
    "results_01e = model_01e.fit()"
   ]
  },
  {
   "cell_type": "code",
   "execution_count": 57,
   "metadata": {},
   "outputs": [
    {
     "name": "stdout",
     "output_type": "stream",
     "text": [
      "                            OLS Regression Results                            \n",
      "==============================================================================\n",
      "Dep. Variable:                      y   R-squared:                       0.913\n",
      "Model:                            OLS   Adj. R-squared:                  0.909\n",
      "Method:                 Least Squares   F-statistic:                     233.4\n",
      "Date:                Thu, 10 Oct 2024   Prob (F-statistic):           2.23e-68\n",
      "Time:                        12:53:52   Log-Likelihood:                 117.70\n",
      "No. Observations:                 141   AIC:                            -221.4\n",
      "Df Residuals:                     134   BIC:                            -200.8\n",
      "Df Model:                           6                                         \n",
      "Covariance Type:            nonrobust                                         \n",
      "==============================================================================\n",
      "                 coef    std err          t      P>|t|      [0.025      0.975]\n",
      "------------------------------------------------------------------------------\n",
      "const         -0.1454      0.069     -2.098      0.038      -0.282      -0.008\n",
      "x1            -0.3233      0.664     -0.487      0.627      -1.637       0.990\n",
      "x2            -0.3233      0.664     -0.487      0.627      -1.637       0.990\n",
      "x3            -4.2629      8.042     -0.530      0.597     -20.168      11.642\n",
      "x4            26.8474     21.129      1.271      0.206     -14.942      68.637\n",
      "x5           -46.3784     26.978     -1.719      0.088     -99.737       6.980\n",
      "x6            33.0884     16.478      2.008      0.047       0.498      65.679\n",
      "x7            -8.3858      3.855     -2.175      0.031     -16.010      -0.762\n",
      "==============================================================================\n",
      "Omnibus:                        3.418   Durbin-Watson:                   1.084\n",
      "Prob(Omnibus):                  0.181   Jarque-Bera (JB):                2.856\n",
      "Skew:                           0.241   Prob(JB):                        0.240\n",
      "Kurtosis:                       2.496   Cond. No.                     1.11e+17\n",
      "==============================================================================\n",
      "\n",
      "Notes:\n",
      "[1] Standard Errors assume that the covariance matrix of the errors is correctly specified.\n",
      "[2] The smallest eigenvalue is 1.45e-31. This might indicate that there are\n",
      "strong multicollinearity problems or that the design matrix is singular.\n"
     ]
    }
   ],
   "source": [
    "print(results_01e.summary())"
   ]
  },
  {
   "cell_type": "code",
   "execution_count": null,
   "metadata": {},
   "outputs": [],
   "source": []
  }
 ],
 "metadata": {
  "kernelspec": {
   "display_name": "ml311",
   "language": "python",
   "name": "python3"
  },
  "language_info": {
   "codemirror_mode": {
    "name": "ipython",
    "version": 3
   },
   "file_extension": ".py",
   "mimetype": "text/x-python",
   "name": "python",
   "nbconvert_exporter": "python",
   "pygments_lexer": "ipython3",
   "version": "3.11.7"
  }
 },
 "nbformat": 4,
 "nbformat_minor": 2
}
